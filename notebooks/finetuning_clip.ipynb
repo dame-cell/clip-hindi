{
 "cells": [
  {
   "cell_type": "code",
   "execution_count": null,
   "metadata": {},
   "outputs": [],
   "source": [
    "!git clone https://github.com/dame-cell/clip-hindi.git\n",
    "%cd  clip-hindi\n",
    "!pip install -r requirements.txt"
   ]
  },
  {
   "cell_type": "code",
   "execution_count": null,
   "metadata": {},
   "outputs": [],
   "source": [
    "\n",
    "from huggingface_hub import hf_hub_download\n",
    "hf_hub_download(repo_id=\"damerajee/clip-hindi\", filename=\"model.pt\",local_dir=\"model\")"
   ]
  },
  {
   "cell_type": "code",
   "execution_count": null,
   "metadata": {},
   "outputs": [],
   "source": [
    "import torch \n",
    "\n",
    "DEVICE = \"cuda\" if torch.cuda.is_available() else \"cpu\"\n",
    "MODEL_PATH =\"/teamspace/studios/this_studio/clip-hindi/model/model.pt\""
   ]
  },
  {
   "cell_type": "code",
   "execution_count": null,
   "metadata": {},
   "outputs": [],
   "source": [
    "from datasets import load_dataset\n",
    "\n",
    "ds = load_dataset(\"microsoft/cats_vs_dogs\",split='train')"
   ]
  },
  {
   "cell_type": "code",
   "execution_count": null,
   "metadata": {},
   "outputs": [],
   "source": [
    "def convert_labels(example):\n",
    "    label_mapping = {\n",
    "        0: \"बिल्ली\",  # Hindi for \"billi\" (cat)\n",
    "        1: \"कुत्ता\"   # Hindi for \"kutta\" (dog)\n",
    "    }\n",
    "    \n",
    "    # Keep the original numerical label\n",
    "    example['string_labels'] = label_mapping.get(example['labels'], \"Unknown\")\n",
    "    return example\n",
    "\n",
    "df = ds.map(convert_labels,batched=False)\n",
    "data = df.train_test_split(0.4)\n",
    "train_dataset = data['train']\n",
    "val_dataset = data['test']"
   ]
  },
  {
   "cell_type": "code",
   "execution_count": null,
   "metadata": {},
   "outputs": [],
   "source": [
    "from torch.utils.data import Dataset\n",
    "from torchvision import transforms\n",
    "\n",
    "class CatDog_Dataset(Dataset):\n",
    "    def __init__(self, data):\n",
    "        self.data = data\n",
    "        self.transform = transforms.Compose([\n",
    "            transforms.Resize((224, 224)),\n",
    "            transforms.ToTensor(),\n",
    "            transforms.Normalize((0.48145466, 0.4578275, 0.40821073), (0.26862954, 0.26130258, 0.27577711))\n",
    "        ])\n",
    "        self.label_mapping = {\"बिल्ली\": 0, \"कुत्ता\": 1}  # Map Hindi labels to numerical values\n",
    "\n",
    "    def __len__(self):\n",
    "        return len(self.data)\n",
    "\n",
    "    def __getitem__(self, idx):\n",
    "        item = self.data[idx]\n",
    "        image = item['image']\n",
    "        image = image.convert(\"RGB\")\n",
    "        label = self.label_mapping[item['string_labels']]  # Convert string label to numerical\n",
    "        return self.transform(image), label\n"
   ]
  },
  {
   "cell_type": "code",
   "execution_count": null,
   "metadata": {},
   "outputs": [],
   "source": [
    "from torch.utils.data import DataLoader\n",
    "\n",
    "# Create DataLoader for training and validation sets\n",
    "train_loader = DataLoader(CatDog_Dataset(train_dataset), batch_size=32, shuffle=True)\n",
    "val_loader = DataLoader(CatDog_Dataset(val_dataset), batch_size=32, shuffle=False)\n"
   ]
  },
  {
   "cell_type": "code",
   "execution_count": null,
   "metadata": {},
   "outputs": [],
   "source": [
    "\n",
    "from clip.modeling_clip import CLIPModel\n",
    "\n",
    "import torch.nn as nn\n",
    "model =CLIPModel().to(DEVICE)\n",
    "model.load_state_dict(torch.load(MODEL_PATH, map_location=DEVICE))\n",
    "\n",
    "\n",
    "# Modify the model to include a classifier for subcategories\n",
    "class CLIPFineTuner(nn.Module):\n",
    "    def __init__(self, model,hidden_dim, num_classes):\n",
    "        super(CLIPFineTuner, self).__init__()\n",
    "        self.model = model\n",
    "        self.classifier = nn.Linear(hidden_dim, num_classes)\n",
    "    \n",
    "    def forward(self, x):\n",
    "        with torch.no_grad():\n",
    "            features = self.model.image_encoder(x).float()  # Convert to float32\n",
    "        return self.classifier(features)\n",
    "\n",
    "\n"
   ]
  },
  {
   "cell_type": "code",
   "execution_count": null,
   "metadata": {},
   "outputs": [],
   "source": [
    "num_classes = 2\n",
    "model_ft = CLIPFineTuner(model,hidden_dim=2048 ,num_classes=num_classes).to(DEVICE)\n"
   ]
  },
  {
   "cell_type": "code",
   "execution_count": null,
   "metadata": {},
   "outputs": [],
   "source": [
    "import torch.optim as optim\n",
    "\n",
    "# Define the loss function and optimizer\n",
    "criterion = nn.CrossEntropyLoss()\n",
    "optimizer = optim.Adam(model_ft, lr=1e-4)"
   ]
  },
  {
   "cell_type": "code",
   "execution_count": null,
   "metadata": {},
   "outputs": [],
   "source": [
    "from tqdm.notebook import tqdm\n",
    "\n",
    "NUM_EPOCHS = 1\n",
    "\n",
    "for epoch in range(NUM_EPOCHS):\n",
    "    model_ft.train()\n",
    "    running_loss = 0.0  \n",
    "    for images, labels in tqdm(train_loader, desc=f\"Epoch {epoch+1}/{NUM_EPOCHS}, Loss: 0.0000\"):\n",
    "        images, labels = images.to(DEVICE), labels.to(DEVICE)\n",
    "        optimizer.zero_grad()\n",
    "        outputs = model_ft(images)\n",
    "        loss = criterion(outputs, labels)\n",
    "        loss.backward()\n",
    "        optimizer.step()\n",
    "\n",
    "        running_loss += loss.item()  # Update running loss\n",
    "        \n",
    "\n",
    "    print(f'Epoch [{epoch+1}/{NUM_EPOCHS}], Loss: {running_loss/len(train_loader):.4f}')\n",
    "\n",
    "    model_ft.eval()\n",
    "    correct = 0\n",
    "    total = 0\n",
    "    with torch.no_grad():\n",
    "        for images, labels in val_loader:\n",
    "            images, labels = images.to(DEVICE), labels.to(DEVICE)  # Move images and labels to the device\n",
    "            outputs = model_ft(images)  # Forward pass: compute predicted outputs by passing inputs to the model\n",
    "            _, predicted = torch.max(outputs.data, 1)  # Get the class label with the highest probability\n",
    "            total += labels.size(0)  # Update total samples\n",
    "            correct += (predicted == labels).sum().item()  # Update correct predictions\n",
    "\n",
    "    print(f'Validation Accuracy: {100 * correct / total:.2f}%') "
   ]
  },
  {
   "cell_type": "code",
   "execution_count": null,
   "metadata": {},
   "outputs": [],
   "source": [
    "image = ds['image'][23000]"
   ]
  },
  {
   "cell_type": "code",
   "execution_count": null,
   "metadata": {},
   "outputs": [],
   "source": [
    "from torchvision import transforms\n",
    "import torch\n",
    "\n",
    "# Define class labels\n",
    "class_labels = {0: \"बिल्ली\", 1: \"कुत्ता\"}\n",
    "\n",
    "# Set model to evaluation mode\n",
    "model_ft.eval()\n",
    "\n",
    "# Ensure the model won't compute gradients during inference\n",
    "with torch.no_grad():\n",
    "    # Example: Assume 'image' is the input image you want to classify\n",
    "    # Preprocess the image (resize, normalize, etc.)\n",
    "    transform = transforms.Compose([\n",
    "        transforms.Resize((224, 224)),\n",
    "        transforms.ToTensor(),\n",
    "        transforms.Normalize((0.48145466, 0.4578275, 0.40821073), (0.26862954, 0.26130258, 0.27577711))\n",
    "    ])\n",
    "\n",
    "    # Apply the preprocessing to your image\n",
    "    preprocessed_image = transform(image).unsqueeze(0).to(DEVICE)  # Add batch dimension\n",
    "\n",
    "    # Perform inference\n",
    "    outputs = model_ft(preprocessed_image)\n",
    "\n",
    "    # Get the predicted class\n",
    "    _, predicted_class = torch.max(outputs, 1)\n",
    "\n",
    "    # Optionally, convert logits to probabilities\n",
    "    probabilities = torch.softmax(outputs, dim=1)\n",
    "\n",
    "    # Get the label for the predicted class\n",
    "    predicted_label = class_labels[predicted_class.item()]\n",
    "\n",
    "    # Print the predicted class label\n",
    "    print(f\"Predicted class: {predicted_label}\")\n",
    "\n",
    "    # If you want to see the probabilities for each class\n",
    "    print(f\"Class probabilities: {probabilities.cpu().numpy()}\")\n"
   ]
  }
 ],
 "metadata": {
  "language_info": {
   "name": "python"
  }
 },
 "nbformat": 4,
 "nbformat_minor": 2
}
